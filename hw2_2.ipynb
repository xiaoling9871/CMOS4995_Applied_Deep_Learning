{
 "cells": [
  {
   "cell_type": "markdown",
   "metadata": {
    "id": "PExgXZnCAysF"
   },
   "source": [
    "## Convert a Keras model to TF.js format\n",
    "This notebook contains instructions and starter code to help you convert your flowers model from part1 to TF.js format, and run it in a browser.\n",
    "\n",
    "1. Upload your `model.h5`file  from the previous notebook to Colab using the file browser (view -> table of contents, then click on the file icon).\n",
    "\n",
    "1. This notebook will convert it to TensorFlow.js format. You will see a new directory containing a `model.json` file (containing meta data), and one or more `group*.bin` files (containing the weights).\n",
    "\n",
    "1. Download these files to your local machine.\n",
    "\n",
    "1. Next, download the [starter code](https://drive.google.com/drive/folders/1uxbc7IBo8AT8OGZqIe9LJQsqQyeOYPlF?usp=sharing) for your webpage (this is complete, and should work with your flowers model out of the box). There are three files you should download (index.html, index.js, and cat.jpg).\n",
    "\n",
    "1. Create a directory on your local machine (say, `tfjs`) and put all the files from the above two steps there.\n",
    "\n",
    "1. Next, you'll want to start a HTTP Server on your local machine (if you simply open index.html in a browser, you may run into security protections that prevent it from loading scripts. To start a server, you can use one built-in to Python. First, `cd` into your `tfds` directory.  \n",
    "\n",
    " If you have Python2 installed, run this command in your terminal:\n",
    "\n",
    " `$ python -m SimpleHTTPServer [port]`\n",
    "\n",
    " If you have Python3:\n",
    "\n",
    " `$ python3 -m http.server [port]`\n",
    "\n",
    "1. Now, open a browser (point the URL to `localhost:8888`). Your webpage should appear. If everything is working, you should see a cat picture with five confidence scores for the different classes. If not, to start debugging in Chrome, you can open the Javascript console via ```View - Developer -> Developer tools -> Console```. Check if there are any errors. \n",
    "\n",
    "1. (Optional). After you have gotten your model running in a browser locally, you may want to create a webpage. To do so, create a free [GitHub pages](https://pages.github.com/) repo (or use your Columbia account), and upload these same files there. \n",
    "\n",
    "1. Take a screenshot of your finished model running in the browser and include it with your submission.\n",
    "\n",
    "References\n",
    "* https://www.tensorflow.org/tutorials/images/classification (Note: the rescaling layer is not yet supported in TensorFlow.js, you must rescale your images before training the model)\n",
    "* https://www.tensorflow.org/js/guide/conversion"
   ]
  },
  {
   "cell_type": "code",
   "execution_count": null,
   "metadata": {
    "id": "-oeRcDOJJbH3"
   },
   "outputs": [],
   "source": [
    "# After running this cell, you may need to use Runtime -> restart on the menu.\n",
    "!pip install tensorflowjs"
   ]
  },
  {
   "cell_type": "markdown",
   "metadata": {
    "id": "5PYBKM5_Am5X"
   },
   "source": [
    "### Upload your `model.h5` file to Colab\n",
    "Before running this cell."
   ]
  },
  {
   "cell_type": "code",
   "execution_count": null,
   "metadata": {
    "id": "-ci1uuI9Jf-j"
   },
   "outputs": [],
   "source": [
    "!tensorflowjs_converter \\\n",
    "    --input_format=keras \\\n",
    "    my_model.h5 \\\n",
    "    my_tfjs_model"
   ]
  },
  {
   "cell_type": "code",
   "execution_count": null,
   "metadata": {
    "id": "SkVHHUHuJrSc"
   },
   "outputs": [],
   "source": [
    "!pwd"
   ]
  },
  {
   "cell_type": "code",
   "execution_count": null,
   "metadata": {
    "id": "8sxumNSMngKc"
   },
   "outputs": [],
   "source": [
    "!ls"
   ]
  },
  {
   "cell_type": "code",
   "execution_count": null,
   "metadata": {
    "id": "xQVNWnbTMahW"
   },
   "outputs": [],
   "source": [
    "!ls /content/my_tfjs_model -lh"
   ]
  },
  {
   "cell_type": "markdown",
   "metadata": {
    "id": "uDGSlrfZAwFw"
   },
   "source": [
    "### Download your converted `model.json` and `group*.bin files\n",
    "And follow the instructions above."
   ]
  }
 ],
 "metadata": {
  "colab": {
   "collapsed_sections": [],
   "provenance": []
  },
  "kernelspec": {
   "display_name": "Python 3",
   "language": "python",
   "name": "python3"
  },
  "language_info": {
   "codemirror_mode": {
    "name": "ipython",
    "version": 3
   },
   "file_extension": ".py",
   "mimetype": "text/x-python",
   "name": "python",
   "nbconvert_exporter": "python",
   "pygments_lexer": "ipython3",
   "version": "3.8.5"
  }
 },
 "nbformat": 4,
 "nbformat_minor": 1
}
