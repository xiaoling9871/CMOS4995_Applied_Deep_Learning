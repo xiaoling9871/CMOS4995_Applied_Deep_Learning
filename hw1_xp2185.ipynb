{
 "cells": [
  {
   "cell_type": "markdown",
   "metadata": {
    "id": "-PZihj-d_tEt"
   },
   "source": [
    "**Assignment 1**\n",
    "\n",
    "## About\n",
    "In this assignment, you will gain experience implementing a linear model, a neural network, and a deep neural network using TensorFlow 2.0. \n",
    "\n",
    "* You will use two different development styles. I thought it’d be helpful for you to see both of these early (if you’re familiar with them, you can branch out to any major framework that exist today). \n",
    "\n",
    "* Along the way, you'll add code to visualize the weights of a linear model, and provide your own implementation of softmax (so you learn to extend the built-in functionality right off the bat).\n",
    "\n",
    "This assignment has several parts, plan ahead and get started early (and come to office hours if you’re stuck, the CAs are happy to help).\n",
    "\n",
    "## Instructions\n",
    "\n",
    "Complete the code in this notebook by searching for the text **\"TODO\"**.\n",
    "\n",
    "## Submission instructions\n",
    "\n",
    "Please submit this assignment on CourseWorks by uploading a Jupyter notebook that includes saved output. If you are working in Colab, you can prepare your notebook for submission by ensuring that runs end-to-end, then saving and downloading it:\n",
    "\n",
    "1. ```Runtime -> Restart and run all```\n",
    "1. ```File -> Save```\n",
    "1. ```File -> Download.ipynb```\n",
    "\n",
    "## Resources\n",
    "\n",
    "You can find all the latest tutorials for TensorFlow 2.0 [here](https://www.tensorflow.org/tutorials). Code examples that will help you with each part of the assignment are linked below.\n",
    "\n",
    "\n",
    "\n",
    "---\n",
    "\n"
   ]
  },
  {
   "cell_type": "markdown",
   "metadata": {
    "id": "KZ5ssDBBl9n6"
   },
   "source": [
    "## Setup"
   ]
  },
  {
   "cell_type": "markdown",
   "metadata": {
    "id": "MDj1_w6v-mYW"
   },
   "source": [
    "### Install TensorFlow 2.0\n",
    "\n",
    "The most recent version of TensorFlow is alreadey installed in Colab. If you prefer working in Jupyter locally, you will need to install TensorFlow following these [instructions](http://tensorflow.org/install)."
   ]
  },
  {
   "cell_type": "markdown",
   "metadata": {
    "id": "QYSALG-y-_7b"
   },
   "source": [
    "### Check which TF version is installed\n",
    "It's good practice to check which version you have installed."
   ]
  },
  {
   "cell_type": "code",
   "execution_count": 1,
   "metadata": {
    "id": "21RQ0x71Ut_t"
   },
   "outputs": [
    {
     "name": "stdout",
     "output_type": "stream",
     "text": [
      "2.5.0\n"
     ]
    }
   ],
   "source": [
    "import tensorflow as tf\n",
    "import numpy as np\n",
    "print(tf.__version__)"
   ]
  },
  {
   "cell_type": "code",
   "execution_count": 2,
   "metadata": {
    "id": "JQPA61YHUvht"
   },
   "outputs": [],
   "source": [
    "from tensorflow.keras.layers import Dense, Flatten \n",
    "from tensorflow.keras import Model\n",
    "import matplotlib.pyplot as plt"
   ]
  },
  {
   "cell_type": "markdown",
   "metadata": {
    "id": "9vfWS0eYvzae"
   },
   "source": [
    "## Part 1: First steps with Sequential models\n",
    "\n",
    "You will work with the Sequential API in this section. This is the easiest way to develop models with TF 2.0, and is the most common in practice. \n",
    "\n",
    "Here are a few code examples that will help you with this part of the assignment:\n",
    "\n",
    "* [Get started for beginners](https://www.tensorflow.org/tutorials/quickstart/beginner)\n",
    "* [Classify images](https://www.tensorflow.org/tutorials/keras/basic_classification)\n",
    "* [Explore overfitting and underfitting](https://www.tensorflow.org/tutorials/keras/overfit_and_underfit)"
   ]
  },
  {
   "cell_type": "markdown",
   "metadata": {
    "id": "6X5681LTm0jC"
   },
   "source": [
    "### Download and prepare a dataset"
   ]
  },
  {
   "cell_type": "code",
   "execution_count": 3,
   "metadata": {
    "id": "KHL51OKlmwyw"
   },
   "outputs": [],
   "source": [
    "mnist = tf.keras.datasets.mnist\n",
    "\n",
    "(x_train, y_train), (x_test, y_test) = mnist.load_data()\n",
    "x_train, x_test = x_train / 255.0, x_test / 255.0"
   ]
  },
  {
   "cell_type": "markdown",
   "metadata": {
    "id": "daw-THC6m4u6"
   },
   "source": [
    "### Define, train, and evaluate a linear model"
   ]
  },
  {
   "cell_type": "code",
   "execution_count": 4,
   "metadata": {
    "id": "MHWcSJEQm8jB"
   },
   "outputs": [
    {
     "name": "stdout",
     "output_type": "stream",
     "text": [
      "Epoch 1/5\n",
      "1875/1875 [==============================] - 1s 560us/step - loss: 0.4707 - accuracy: 0.8771\n",
      "Epoch 2/5\n",
      "1875/1875 [==============================] - 1s 531us/step - loss: 0.3035 - accuracy: 0.9159\n",
      "Epoch 3/5\n",
      "1875/1875 [==============================] - 1s 525us/step - loss: 0.2835 - accuracy: 0.9214\n",
      "Epoch 4/5\n",
      "1875/1875 [==============================] - 1s 530us/step - loss: 0.2727 - accuracy: 0.9244\n",
      "Epoch 5/5\n",
      "1875/1875 [==============================] - 1s 537us/step - loss: 0.2669 - accuracy: 0.9260\n",
      "313/313 [==============================] - 0s 439us/step - loss: 0.2695 - accuracy: 0.9270\n"
     ]
    },
    {
     "data": {
      "text/plain": [
       "[0.2694820165634155, 0.9269999861717224]"
      ]
     },
     "execution_count": 4,
     "metadata": {},
     "output_type": "execute_result"
    }
   ],
   "source": [
    "model = tf.keras.models.Sequential([\n",
    "  tf.keras.layers.Flatten(input_shape=(28, 28)),\n",
    "  tf.keras.layers.Dense(10, activation='softmax')\n",
    "])\n",
    "\n",
    "model.compile(optimizer='adam',\n",
    "              loss='sparse_categorical_crossentropy',\n",
    "              metrics=['accuracy'])\n",
    "\n",
    "model.fit(x_train, y_train, epochs=5)\n",
    "model.evaluate(x_test, y_test)"
   ]
  },
  {
   "cell_type": "markdown",
   "metadata": {
    "id": "KyLE9HJbwRDp"
   },
   "source": [
    "### 1a: Plot loss and accuracy\n",
    "\n",
    "**TODO**\n",
    "\n",
    "Modify the code below to produce plots showing loss and accuracy as a function of epochs on training and validation data (it's fine to use x_test and y_test as validation data for this assignment). To do so, you will need to add validation data to the call for ```model.fit```, and capture the results in a history object. Code for plotting is provided for you, you can pass your history object to this. You can find additional example code [here](https://www.tensorflow.org/tutorials/keras/text_classification).\n",
    "\n",
    "![Plot of loss](https://storage.googleapis.com/applied-dl/a1-1.png)"
   ]
  },
  {
   "cell_type": "code",
   "execution_count": 5,
   "metadata": {
    "id": "xGFjRexynN11"
   },
   "outputs": [
    {
     "name": "stdout",
     "output_type": "stream",
     "text": [
      "Epoch 1/10\n",
      "1875/1875 [==============================] - 1s 635us/step - loss: 0.4720 - accuracy: 0.8777 - val_loss: 0.3060 - val_accuracy: 0.9159\n",
      "Epoch 2/10\n",
      "1875/1875 [==============================] - 1s 621us/step - loss: 0.3039 - accuracy: 0.9151 - val_loss: 0.2803 - val_accuracy: 0.9220\n",
      "Epoch 3/10\n",
      "1875/1875 [==============================] - 1s 603us/step - loss: 0.2833 - accuracy: 0.9202 - val_loss: 0.2722 - val_accuracy: 0.9233\n",
      "Epoch 4/10\n",
      "1875/1875 [==============================] - 1s 594us/step - loss: 0.2733 - accuracy: 0.9233 - val_loss: 0.2680 - val_accuracy: 0.9256\n",
      "Epoch 5/10\n",
      "1875/1875 [==============================] - 1s 598us/step - loss: 0.2668 - accuracy: 0.9253 - val_loss: 0.2674 - val_accuracy: 0.9253\n",
      "Epoch 6/10\n",
      "1875/1875 [==============================] - 1s 599us/step - loss: 0.2620 - accuracy: 0.9275 - val_loss: 0.2645 - val_accuracy: 0.9269\n",
      "Epoch 7/10\n",
      "1875/1875 [==============================] - 1s 612us/step - loss: 0.2580 - accuracy: 0.9279 - val_loss: 0.2648 - val_accuracy: 0.9257\n",
      "Epoch 8/10\n",
      "1875/1875 [==============================] - 1s 623us/step - loss: 0.2556 - accuracy: 0.9291 - val_loss: 0.2640 - val_accuracy: 0.9269\n",
      "Epoch 9/10\n",
      "1875/1875 [==============================] - 1s 602us/step - loss: 0.2532 - accuracy: 0.9294 - val_loss: 0.2656 - val_accuracy: 0.9268\n",
      "Epoch 10/10\n",
      "1875/1875 [==============================] - 1s 610us/step - loss: 0.2509 - accuracy: 0.9311 - val_loss: 0.2682 - val_accuracy: 0.9237\n"
     ]
    },
    {
     "data": {
      "image/png": "[encoded data removed]",
      "text/plain": [
       "<Figure size 432x288 with 1 Axes>"
      ]
     },
     "metadata": {
      "needs_background": "light"
     },
     "output_type": "display_data"
    },
    {
     "data": {
      "image/png": "[encoded data removed]",
      "text/plain": [
       "<Figure size 432x288 with 1 Axes>"
      ]
     },
     "metadata": {
      "needs_background": "light"
     },
     "output_type": "display_data"
    }
   ],
   "source": [
    "model = tf.keras.models.Sequential([\n",
    "  tf.keras.layers.Flatten(input_shape=(28, 28)),\n",
    "  tf.keras.layers.Dense(10, activation='softmax')\n",
    "])\n",
    "\n",
    "model.compile(optimizer='adam',\n",
    "              loss='sparse_categorical_crossentropy',\n",
    "              metrics=['accuracy'])\n",
    "\n",
    "\n",
    "# TODO\n",
    "#\n",
    "# 1. create a history object to store the results of model.fit\n",
    "# ```history = model.fit(...)```\n",
    "#\n",
    "# 2. add another parameter to model.fit for validation data\n",
    "# https://keras.io/models/sequential/\n",
    "\n",
    "history = model.fit(x_train, y_train, validation_data = (x_test, y_test), epochs=10)\n",
    "\n",
    "# A plotting function you can reuse\n",
    "def plot(history):\n",
    "  \n",
    "  # The history object contains results on the training and test\n",
    "  # sets for each epoch\n",
    "  acc = history.history['accuracy']\n",
    "  val_acc = history.history['val_accuracy']\n",
    "  loss = history.history['loss']\n",
    "  val_loss = history.history['val_loss']\n",
    "\n",
    "  # Get the number of epochs\n",
    "  epochs = range(len(acc))\n",
    "\n",
    "  plt.title('Training and validation accuracy')\n",
    "  plt.plot(epochs, acc, color='blue', label='Train')\n",
    "  plt.plot(epochs, val_acc, color='orange', label='Val')\n",
    "  plt.xlabel('Epoch')\n",
    "  plt.ylabel('Accuracy')\n",
    "  plt.legend()\n",
    "\n",
    "  _ = plt.figure()\n",
    "  plt.title('Training and validation loss')\n",
    "  plt.plot(epochs, loss, color='blue', label='Train')\n",
    "  plt.plot(epochs, val_loss, color='orange', label='Val')\n",
    "  plt.xlabel('Epoch')\n",
    "  plt.ylabel('Loss')\n",
    "  plt.legend()\n",
    "  \n",
    "plot(history)"
   ]
  },
  {
   "cell_type": "markdown",
   "metadata": {
    "id": "4EhrKNT8wfgD"
   },
   "source": [
    "### 1b: Implement a neural network \n",
    "\n",
    "**TODO**\n",
    "\n",
    "Modify the code below to create a neural network (with a single hidden layer). Add a Dense layer with 128 units and ReLU activation. Train and evaluate your model. It is not necessary to produce plots for this section."
   ]
  },
  {
   "cell_type": "code",
   "execution_count": 6,
   "metadata": {
    "id": "FYUgpSwPq-HF"
   },
   "outputs": [
    {
     "name": "stdout",
     "output_type": "stream",
     "text": [
      "Epoch 1/5\n",
      "1875/1875 [==============================] - 2s 711us/step - loss: 0.2568 - accuracy: 0.9268\n",
      "Epoch 2/5\n",
      "1875/1875 [==============================] - 1s 692us/step - loss: 0.1135 - accuracy: 0.9664\n",
      "Epoch 3/5\n",
      "1875/1875 [==============================] - 1s 718us/step - loss: 0.0765 - accuracy: 0.9764\n",
      "Epoch 4/5\n",
      "1875/1875 [==============================] - 1s 683us/step - loss: 0.0578 - accuracy: 0.9822\n",
      "Epoch 5/5\n",
      "1875/1875 [==============================] - 1s 708us/step - loss: 0.0441 - accuracy: 0.9866\n"
     ]
    },
    {
     "data": {
      "text/plain": [
       "<tensorflow.python.keras.callbacks.History at 0x7fa1affa1b20>"
      ]
     },
     "execution_count": 6,
     "metadata": {},
     "output_type": "execute_result"
    }
   ],
   "source": [
    "model = tf.keras.models.Sequential([\n",
    "  tf.keras.layers.Flatten(input_shape=(28, 28)),\n",
    "  tf.keras.layers.Dense(128, activation = 'relu'),\n",
    "  # TODO: Add a layer here\n",
    "  tf.keras.layers.Dense(10, activation='softmax')\n",
    "])\n",
    "\n",
    "model.compile(optimizer='adam',\n",
    "              loss='sparse_categorical_crossentropy',\n",
    "              metrics=['accuracy'])\n",
    "\n",
    "model.fit(x_train, y_train, epochs=5)"
   ]
  },
  {
   "cell_type": "markdown",
   "metadata": {
    "id": "V18pDvPzwh6l"
   },
   "source": [
    "### 1c: Implement a deep neural network \n",
    "\n",
    "**TODO**\n",
    "\n",
    "Modify the code below to create and train a deep neural network with at least two hidden layers."
   ]
  },
  {
   "cell_type": "code",
   "execution_count": 7,
   "metadata": {
    "id": "K0odgGhmrNNh"
   },
   "outputs": [
    {
     "name": "stdout",
     "output_type": "stream",
     "text": [
      "Epoch 1/10\n",
      "1875/1875 [==============================] - 2s 788us/step - loss: 0.2553 - accuracy: 0.9238\n",
      "Epoch 2/10\n",
      "1875/1875 [==============================] - 2s 860us/step - loss: 0.1058 - accuracy: 0.9685\n",
      "Epoch 3/10\n",
      "1875/1875 [==============================] - 2s 827us/step - loss: 0.0741 - accuracy: 0.9766\n",
      "Epoch 4/10\n",
      "1875/1875 [==============================] - 1s 770us/step - loss: 0.0571 - accuracy: 0.9822\n",
      "Epoch 5/10\n",
      "1875/1875 [==============================] - 1s 785us/step - loss: 0.0485 - accuracy: 0.9839\n",
      "Epoch 6/10\n",
      "1875/1875 [==============================] - 1s 770us/step - loss: 0.0388 - accuracy: 0.9877\n",
      "Epoch 7/10\n",
      "1875/1875 [==============================] - 1s 771us/step - loss: 0.0313 - accuracy: 0.9898\n",
      "Epoch 8/10\n",
      "1875/1875 [==============================] - 1s 775us/step - loss: 0.0302 - accuracy: 0.9901\n",
      "Epoch 9/10\n",
      "1875/1875 [==============================] - 1s 769us/step - loss: 0.0258 - accuracy: 0.9914\n",
      "Epoch 10/10\n",
      "1875/1875 [==============================] - 1s 768us/step - loss: 0.0206 - accuracy: 0.9934\n"
     ]
    },
    {
     "data": {
      "text/plain": [
       "<tensorflow.python.keras.callbacks.History at 0x7fa1affa1d90>"
      ]
     },
     "execution_count": 7,
     "metadata": {},
     "output_type": "execute_result"
    }
   ],
   "source": [
    "model = tf.keras.models.Sequential([\n",
    "  tf.keras.layers.Flatten(input_shape=(28, 28)),\n",
    "  # TODO: Add two layers here\n",
    "  tf.keras.layers.Dense(128, activation = 'relu'),\n",
    "  tf.keras.layers.Dense(64, activation = 'relu'),\n",
    "  tf.keras.layers.Dense(32, activation = 'relu'),\n",
    "  tf.keras.layers.Dense(10, activation='softmax')\n",
    "])\n",
    "\n",
    "model.compile(optimizer='adam',\n",
    "              loss='sparse_categorical_crossentropy',\n",
    "              metrics=['accuracy'])\n",
    "\n",
    "model.fit(x_train, y_train, epochs=10)"
   ]
  },
  {
   "cell_type": "markdown",
   "metadata": {
    "id": "NkmnVGG-wnyw"
   },
   "source": [
    "### 1d: Display predictions and their confidence \n",
    "\n",
    "**TODO**\n",
    "\n",
    "1. Choose one of your models above. Use it to make predictions on the entire test set using ```model.predict```\n",
    "\n",
    "2. Next, identify one image from the testing set the model classifies correctly, and another that it classifies incorrectly. Add code to display both of these images below, the correct labels for them, the predicted labels, and the confidence scores."
   ]
  },
  {
   "cell_type": "code",
   "execution_count": 8,
   "metadata": {
    "id": "BPd5NvaV1XEx"
   },
   "outputs": [],
   "source": [
    "# TODO: add your code here\n",
    "y_pred = model.predict(x_test)\n",
    "y_class = np.argmax(y_pred)"
   ]
  },
  {
   "cell_type": "code",
   "execution_count": 9,
   "metadata": {},
   "outputs": [
    {
     "data": {
      "text/plain": [
       "(10000, 28, 28)"
      ]
     },
     "execution_count": 9,
     "metadata": {},
     "output_type": "execute_result"
    }
   ],
   "source": [
    "x_test.shape"
   ]
  },
  {
   "cell_type": "code",
   "execution_count": 10,
   "metadata": {},
   "outputs": [
    {
     "data": {
      "text/plain": [
       "array([[3.2367626e-11, 9.0012868e-09, 1.0867403e-08, ..., 9.9999964e-01,\n",
       "        7.5186621e-09, 2.3427242e-07],\n",
       "       [4.1757954e-07, 3.2842400e-09, 9.9999952e-01, ..., 3.8791267e-10,\n",
       "        1.6693984e-09, 5.5240023e-14],\n",
       "       [1.0818306e-08, 9.9999201e-01, 1.2265028e-06, ..., 8.6834325e-07,\n",
       "        3.1369887e-06, 4.8871822e-08],\n",
       "       ...,\n",
       "       [1.2576627e-16, 1.5399065e-09, 2.3776180e-17, ..., 1.0075869e-12,\n",
       "        4.2660824e-13, 7.5756141e-08],\n",
       "       [4.3080709e-11, 7.3970968e-12, 4.1059319e-11, ..., 1.2704471e-12,\n",
       "        4.8901115e-06, 7.0871981e-13],\n",
       "       [4.4730070e-10, 8.6800679e-12, 1.8843297e-14, ..., 9.1938627e-23,\n",
       "        4.4445926e-14, 7.6505989e-12]], dtype=float32)"
      ]
     },
     "execution_count": 10,
     "metadata": {},
     "output_type": "execute_result"
    }
   ],
   "source": [
    "y_pred\n"
   ]
  },
  {
   "cell_type": "code",
   "execution_count": 11,
   "metadata": {
    "scrolled": true
   },
   "outputs": [
    {
     "data": {
      "text/plain": [
       "array([7, 2, 1, ..., 4, 5, 6], dtype=uint8)"
      ]
     },
     "execution_count": 11,
     "metadata": {},
     "output_type": "execute_result"
    }
   ],
   "source": [
    "y_test"
   ]
  },
  {
   "cell_type": "code",
   "execution_count": 12,
   "metadata": {},
   "outputs": [
    {
     "name": "stdout",
     "output_type": "stream",
     "text": [
      "0 8\n"
     ]
    }
   ],
   "source": [
    "correct, false = list(), list()\n",
    "for i in range( len(y_pred)):\n",
    "    if np.argmax(y_pred[i]) == y_test[i]:\n",
    "        correct.append(i)\n",
    "    else:\n",
    "        false.append(i)\n",
    "print(correct[0], false[0])"
   ]
  },
  {
   "cell_type": "code",
   "execution_count": 13,
   "metadata": {},
   "outputs": [],
   "source": [
    "# we choose the first prediction as correct example and the 115th prediciton as false example"
   ]
  },
  {
   "cell_type": "code",
   "execution_count": 14,
   "metadata": {
    "scrolled": true
   },
   "outputs": [
    {
     "name": "stdout",
     "output_type": "stream",
     "text": [
      "ID: 0\n",
      "Predicted Label 7 True Label: 7\n",
      "Confidence Scores for 10 classes: [3.2367626e-11 9.0012868e-09 1.0867403e-08 1.3637430e-07 3.3999654e-09\n",
      " 4.3663428e-12 5.1253345e-17 9.9999964e-01 7.5186621e-09 2.3427242e-07]\n"
     ]
    },
    {
     "data": {
      "image/png": "[encoded data removed]",
      "text/plain": [
       "<Figure size 432x288 with 1 Axes>"
      ]
     },
     "metadata": {
      "needs_background": "light"
     },
     "output_type": "display_data"
    }
   ],
   "source": [
    "plt.imshow(x_test[0], cmap=plt.cm.binary)\n",
    "print(\"ID: 0\")\n",
    "print(\"Predicted Label\", np.argmax(y_pred[0]), \"True Label:\", y_test[0])\n",
    "print(\"Confidence Scores for 10 classes:\", y_pred[0])\n"
   ]
  },
  {
   "cell_type": "code",
   "execution_count": 15,
   "metadata": {},
   "outputs": [
    {
     "name": "stdout",
     "output_type": "stream",
     "text": [
      "ID: 115\n",
      "Predicted Label 9 True Label: 4\n",
      "Confidence Scores for 10 classes: [2.8530524e-06 1.8787830e-07 3.2794989e-10 4.5732691e-08 3.2518097e-04\n",
      " 5.1783296e-08 5.0464268e-07 1.8771158e-09 1.9778712e-08 9.9967122e-01]\n"
     ]
    },
    {
     "data": {
      "image/png": "[encoded data removed]",
      "text/plain": [
       "<Figure size 432x288 with 1 Axes>"
      ]
     },
     "metadata": {
      "needs_background": "light"
     },
     "output_type": "display_data"
    }
   ],
   "source": [
    "plt.imshow(x_test[115], cmap=plt.cm.binary)\n",
    "print(\"ID: 115\")\n",
    "print(\"Predicted Label\", np.argmax(y_pred[115]), \"True Label:\", y_test[115])\n",
    "print(\"Confidence Scores for 10 classes:\", y_pred[115])\n"
   ]
  },
  {
   "cell_type": "markdown",
   "metadata": {
    "id": "ca0nFGJdv3H2"
   },
   "source": [
    "## Part 2: Subclassed models\n",
    "\n",
    "In this part of the assignment, you'll work with the Keras Subclassing API. Instead of using a built-in method (```model.fit```) you will train models using a GradientTape.\n",
    "\n",
    "Here are a few code examples that will help you with this part of the assignment:\n",
    "\n",
    "* [Get started for experts](https://www.tensorflow.org/tutorials/quickstart/advanced)\n",
    "* [TensorFlow basics](https://www.tensorflow.org/guide/basics)\n",
    "* [Keras overview](https://www.tensorflow.org/guide/keras/overview)\n",
    "* [Writing custom models](https://www.tensorflow.org/guide/keras/custom_layers_and_models)"
   ]
  },
  {
   "cell_type": "markdown",
   "metadata": {
    "id": "xB6r75B5teHv"
   },
   "source": [
    "### Download and prepare a dataset\n",
    "This is similar to the above, except now we'll use ```tf.data``` to batch and shuffle the data, instead of the utilities baked into ```model.fit```. It's not necessary for this assignment, but if you wish, you can learn how to use tf.data [here](https://www.tensorflow.org/guide/data)."
   ]
  },
  {
   "cell_type": "code",
   "execution_count": 16,
   "metadata": {
    "id": "kYbkeJJqtm0h"
   },
   "outputs": [],
   "source": [
    "# Download a dataset\n",
    "(x_train, y_train), (x_test, y_test) = tf.keras.datasets.mnist.load_data()\n",
    "\n",
    "# Batch and shuffle the data\n",
    "train_ds = tf.data.Dataset.from_tensor_slices(\n",
    "    (x_train.astype('float32') / 255, y_train)).shuffle(1024).batch(32)\n",
    "\n",
    "test_ds = tf.data.Dataset.from_tensor_slices(\n",
    "    (x_test.astype('float32') / 255, y_test)).batch(32)"
   ]
  },
  {
   "cell_type": "code",
   "execution_count": 17,
   "metadata": {
    "id": "_JlSs-3qvCgi"
   },
   "outputs": [
    {
     "name": "stdout",
     "output_type": "stream",
     "text": [
      "tf.Tensor(5, shape=(), dtype=uint8)\n"
     ]
    },
    {
     "data": {
      "image/png": "[encoded data removed]",
      "text/plain": [
       "<Figure size 432x288 with 1 Axes>"
      ]
     },
     "metadata": {
      "needs_background": "light"
     },
     "output_type": "display_data"
    }
   ],
   "source": [
    "# A quick example of iterating over a dataset object\n",
    "for image, label in train_ds.take(1):\n",
    "  plt.imshow(image[0], plt.get_cmap('gray'))\n",
    "  print(label[0])"
   ]
  },
  {
   "cell_type": "markdown",
   "metadata": {
    "id": "0Nmw1h6stTg5"
   },
   "source": [
    "### Define and train a linear model"
   ]
  },
  {
   "cell_type": "code",
   "execution_count": 18,
   "metadata": {
    "id": "BWGJoufMtbHA"
   },
   "outputs": [],
   "source": [
    "class MyLinearModel(Model):\n",
    "  def __init__(self):\n",
    "    super(MyLinearModel, self).__init__()\n",
    "    self.flatten = Flatten()\n",
    "    self.d1 = Dense(10, activation='softmax', name=\"dense1\")\n",
    "\n",
    "  def call(self, x):\n",
    "    x = self.flatten(x)\n",
    "    return self.d1(x)"
   ]
  },
  {
   "cell_type": "code",
   "execution_count": 19,
   "metadata": {
    "id": "35tIz37EttdP"
   },
   "outputs": [
    {
     "name": "stdout",
     "output_type": "stream",
     "text": [
      "Epoch 0, Test loss: 0.4802393913269043\n",
      "Epoch 1, Test loss: 0.4000180959701538\n",
      "Epoch 2, Test loss: 0.3671649694442749\n",
      "Epoch 3, Test loss: 0.3483828604221344\n",
      "Epoch 4, Test loss: 0.3359007239341736\n"
     ]
    }
   ],
   "source": [
    "model = MyLinearModel()\n",
    "\n",
    "loss_fn = tf.keras.losses.SparseCategoricalCrossentropy()\n",
    "optimizer = tf.keras.optimizers.SGD()\n",
    "\n",
    "# For each epoch\n",
    "for epoch in range(5):\n",
    "\n",
    "  # For each batch of images and labels\n",
    "  for images, labels in train_ds:\n",
    "\n",
    "    # Open a GradientTape.\n",
    "    with tf.GradientTape() as tape:\n",
    "\n",
    "      # Forward pass\n",
    "      predictions = model(images)\n",
    "\n",
    "      # Calculate loss\n",
    "      loss = loss_fn(labels, predictions)\n",
    "\n",
    "    # Backprop to calculate gradients\n",
    "    gradients = tape.gradient(loss, model.trainable_variables)\n",
    "\n",
    "    # Gradient descent step\n",
    "    optimizer.apply_gradients(zip(gradients, model.trainable_variables))\n",
    "\n",
    "  # Calculate loss on the test data\n",
    "  test_loss = []\n",
    "  for images, labels in test_ds: \n",
    "    predictions = model(images)\n",
    "    loss_on_batch = loss_fn(labels, predictions)\n",
    "    test_loss.append(loss_on_batch)\n",
    "    \n",
    "  print(\"Epoch {}, Test loss: {}\".format(epoch, tf.reduce_mean(test_loss)))"
   ]
  },
  {
   "cell_type": "markdown",
   "metadata": {
    "id": "mEO51Mvi1jOT"
   },
   "source": [
    "Note: you may have noticed that the above code runs slowly (it's executing eagerly). Later in this notebook, you will compile your code (to run it in graph mode) using ```@tf.function```. The general workflow is to write your code without using tf.function (as shown above, which makes for easier debugging). Once you've finished debugging your model, you can add ```@tf.function``` for performance if necessary."
   ]
  },
  {
   "cell_type": "markdown",
   "metadata": {
    "id": "dj7Y8JWgwv9Z"
   },
   "source": [
    "### 2a: Visualize the learned weights\n",
    "\n",
    "We can interpret a linear model by looking at the weights of the fully connected layer. Modify the below code to create a plot similar to this one from lecture 1:\n",
    "\n",
    "![Plot of weights](https://storage.googleapis.com/applied-dl/a1-2.png)\n",
    "\n",
    "**TODO**\n",
    "\n",
    "Modify the below code to retrieve the learned weights. You can use either the public API of a model ```model.get_layer(name)``` then retrieve the weights from that, or (because our model is defined using the Subclassing API), you can access the dense layer directly ```model.d1```."
   ]
  },
  {
   "cell_type": "code",
   "execution_count": 20,
   "metadata": {
    "id": "JiQZV03RuWHM"
   },
   "outputs": [
    {
     "name": "stdout",
     "output_type": "stream",
     "text": [
      "(784, 10)\n"
     ]
    }
   ],
   "source": [
    "# There are two ways to retrieve the weights. You can use the public API\n",
    "# (model.get_layer(name).get_weights()), or, you can access the dense layer \n",
    "# directly (model.dl) then find the accessor method, or again, access the\n",
    "# variable directly.\n",
    "# Python tip: try ```dir(model.d1)```\n",
    "\n",
    "# TODO: modify this code to get the weights\n",
    "\n",
    "weights, bias = (model.get_layer('dense1').get_weights()[0], model.get_layer('dense1').get_weights()[1]) # get the weights\n",
    "print(weights.shape)"
   ]
  },
  {
   "cell_type": "code",
   "execution_count": 21,
   "metadata": {},
   "outputs": [
    {
     "data": {
      "text/plain": [
       "array([ 8.66446421e-02,  6.53590485e-02,  2.67056227e-02,  8.53380188e-02,\n",
       "       -7.24661350e-03, -8.22667629e-02,  3.75542045e-03, -7.13985264e-02,\n",
       "        7.76515156e-03, -3.51574458e-02,  5.82865626e-03, -6.91174343e-02,\n",
       "        3.95607129e-02, -7.81011283e-02,  5.17939664e-02,  2.69237421e-02,\n",
       "       -2.97806263e-02,  1.47408620e-02,  6.21504113e-02, -2.00107172e-02,\n",
       "        6.63512945e-03,  2.45834142e-02, -8.60240906e-02,  6.50666133e-02,\n",
       "       -4.89614308e-02,  5.29532060e-02, -5.91285005e-02,  5.68334237e-02,\n",
       "       -3.74184363e-02,  2.63555869e-02, -2.29353383e-02, -8.10991302e-02,\n",
       "        7.23325908e-02, -8.65476727e-02,  1.77622326e-02, -4.56073694e-02,\n",
       "        1.05288280e-02, -7.58798048e-02,  1.52591094e-02, -3.62528674e-02,\n",
       "       -8.34944695e-02,  3.74416225e-02,  2.30447482e-02,  7.04345107e-02,\n",
       "       -6.87470064e-02,  2.39337534e-02, -9.37045086e-03,  7.65310451e-02,\n",
       "       -4.59565483e-02,  7.28393570e-02,  4.92506921e-02,  7.30784982e-02,\n",
       "       -6.11940473e-02, -7.81348348e-03, -3.71702053e-02,  5.88383004e-02,\n",
       "       -1.62166804e-02, -6.80517927e-02, -4.04609665e-02,  4.85415645e-02,\n",
       "        2.02731360e-02, -6.39501289e-02,  7.17409626e-02, -5.53742275e-02,\n",
       "        6.86607882e-02, -3.83493770e-03, -7.05864951e-02, -3.92923057e-02,\n",
       "        1.59468558e-02, -4.56679687e-02,  5.49083799e-02, -4.98867780e-02,\n",
       "       -8.50982070e-02, -4.29920852e-02,  3.28162499e-02, -5.31944856e-02,\n",
       "        6.85298070e-02,  1.28286481e-02, -6.03512563e-02,  7.50803668e-03,\n",
       "        3.73407602e-02, -7.42918104e-02,  3.48753110e-02, -7.70569891e-02,\n",
       "        2.93321684e-02,  1.86726823e-02, -1.87390018e-02,  8.05544779e-02,\n",
       "       -7.44201317e-02,  5.24033140e-03, -4.29399312e-03,  8.49140808e-02,\n",
       "       -1.88003834e-02, -6.78428337e-02,  4.82947230e-02, -8.85348096e-02,\n",
       "       -8.65108892e-02, -7.96051100e-02,  2.40683276e-02, -1.02692887e-01,\n",
       "       -1.51919918e-02,  2.81466991e-02,  3.59435268e-02,  2.69796941e-02,\n",
       "       -8.75132382e-02, -5.38869612e-02, -2.82913875e-02, -6.78226948e-02,\n",
       "        1.78048119e-03, -1.63492300e-02, -8.43420923e-02, -8.46872553e-02,\n",
       "        5.49854115e-02, -7.92991463e-03, -4.14950680e-03, -5.40501401e-02,\n",
       "       -4.76008952e-02,  5.48211709e-02,  2.52214819e-02,  5.52034639e-02,\n",
       "       -2.26390120e-02, -8.06140676e-02, -3.14666443e-02, -4.57358584e-02,\n",
       "       -9.76828486e-03, -1.56065062e-01, -5.32558262e-02, -1.49745345e-01,\n",
       "       -1.64602235e-01, -3.35459076e-02, -1.08771779e-01,  8.03897809e-03,\n",
       "        2.59451792e-02, -1.53695056e-02, -1.07355947e-02,  2.85737701e-02,\n",
       "        7.78644085e-02,  7.07488135e-02,  4.82813753e-02,  3.54846492e-02,\n",
       "       -7.35187531e-02,  2.22755447e-02, -6.66068867e-02,  3.55200320e-02,\n",
       "        6.96260184e-02, -4.19558072e-03,  5.78502147e-03, -8.40858072e-02,\n",
       "       -4.52443212e-02, -9.93449688e-02,  1.95350056e-03, -9.15188417e-02,\n",
       "       -1.02856763e-01, -1.77481294e-01, -1.36807293e-01, -1.86758056e-01,\n",
       "       -2.37722218e-01, -1.77660555e-01, -2.69699156e-01, -2.25616440e-01,\n",
       "       -1.06112540e-01, -5.55127338e-02, -6.88493103e-02, -2.08841320e-02,\n",
       "       -7.86289796e-02,  3.65741551e-02, -3.25010419e-02, -5.28113395e-02,\n",
       "       -1.71760023e-02, -7.81466439e-03, -7.33468384e-02, -5.55030219e-02,\n",
       "       -2.21116915e-02, -5.66084385e-02, -7.97324162e-03, -6.54391479e-03,\n",
       "       -9.38723162e-02, -1.89520806e-01, -7.91392252e-02,  1.42832082e-02,\n",
       "        7.79790282e-02,  6.32512793e-02,  7.29392245e-02,  1.08464688e-01,\n",
       "        1.09641172e-01, -4.30718958e-02,  2.88071521e-02, -9.33968797e-02,\n",
       "       -1.59160167e-01, -1.15291528e-01, -1.48319677e-01, -1.38762757e-01,\n",
       "       -1.30124956e-01,  5.14594987e-02, -2.80121360e-02,  3.92044075e-02,\n",
       "        8.29148814e-02,  6.48938864e-02, -8.75364020e-02, -9.00689065e-02,\n",
       "       -5.32526262e-02, -1.03637248e-01, -1.07362710e-01, -1.96238056e-01,\n",
       "       -9.29960981e-02, -1.13441564e-01, -3.30697894e-02, -2.05592699e-02,\n",
       "        5.42481244e-02,  2.59218127e-01,  2.93462425e-01,  3.96248162e-01,\n",
       "        3.16367686e-01,  2.53210694e-01,  7.35196173e-02,  6.66503906e-02,\n",
       "       -1.25649734e-03, -1.48317680e-01, -1.88049585e-01, -1.19141415e-01,\n",
       "        4.65474697e-03, -1.05430797e-01,  8.72818939e-03, -5.83699383e-02,\n",
       "       -7.73597583e-02,  6.31389543e-02,  5.95901646e-02, -5.51666431e-02,\n",
       "       -3.40550989e-02, -5.84055781e-02, -1.27271786e-01, -1.45767123e-01,\n",
       "       -1.42758280e-01,  2.73915417e-02, -7.76271597e-02,  1.17526568e-01,\n",
       "        1.01399958e-01,  2.16074884e-01,  1.69702932e-01,  2.53975093e-01,\n",
       "        1.40361398e-01,  1.09025106e-01, -1.64391678e-02, -9.92446169e-02,\n",
       "       -1.10860579e-01, -7.71823376e-02, -1.25309303e-01, -5.01279943e-02,\n",
       "       -1.05888866e-01,  2.78513059e-02,  5.54330163e-02,  1.54156806e-02,\n",
       "       -6.93782866e-02, -2.15635821e-02, -1.63630620e-02, -5.66817373e-02,\n",
       "       -4.37407680e-02,  1.41284531e-02, -4.68146130e-02, -4.08963040e-02,\n",
       "        2.43103262e-02,  5.92777915e-02,  2.24573798e-02,  3.24273445e-02,\n",
       "        5.98418340e-02,  5.53579628e-02,  2.60844491e-02,  5.33596314e-02,\n",
       "        2.85996776e-02,  5.19032925e-02,  5.62907532e-02,  2.24319194e-02,\n",
       "       -3.29763070e-02,  1.34683792e-02, -1.16447300e-01, -1.48336038e-01,\n",
       "       -9.48093161e-02, -6.06266223e-02,  5.40278330e-02, -6.85933605e-02,\n",
       "       -6.25569299e-02, -4.93290089e-02,  3.75072807e-02, -4.89666276e-02,\n",
       "       -2.87767388e-02, -7.26832747e-02,  2.79450826e-02,  3.98235321e-02,\n",
       "        2.27870997e-02,  1.59118637e-01,  1.32592559e-01,  1.19793065e-01,\n",
       "        7.00374320e-02, -5.43478876e-02, -1.23956323e-01, -6.17012456e-02,\n",
       "       -5.36035448e-02, -6.27335021e-03, -2.20113798e-04,  8.65424648e-02,\n",
       "        2.58473940e-02, -3.41068767e-02,  3.31875719e-02, -1.12482302e-01,\n",
       "        4.52657975e-02, -8.75501409e-02, -3.05883195e-02, -7.25164115e-02,\n",
       "       -5.08237281e-04, -7.85988793e-02,  4.31049354e-02, -7.63197169e-02,\n",
       "        1.65617242e-02,  1.08812831e-01,  1.13233522e-01,  1.02192581e-01,\n",
       "        7.84914792e-02,  1.51942149e-01,  9.59143043e-02,  6.51829392e-02,\n",
       "       -1.77284256e-02, -1.99993253e-01, -4.22311500e-02,  4.48880978e-02,\n",
       "       -4.44709649e-03,  9.94405374e-02,  1.48804605e-01,  1.88921839e-01,\n",
       "        2.34477922e-01,  1.16149627e-01, -3.71863917e-02, -6.12083711e-02,\n",
       "       -1.03438444e-01, -2.80228443e-02, -2.22193189e-02,  8.14628042e-03,\n",
       "       -2.96909064e-02,  2.11123861e-02,  4.24225889e-02,  8.84091761e-03,\n",
       "       -2.72654593e-02,  1.34082913e-01,  1.68649077e-01,  2.21015707e-01,\n",
       "        2.08622620e-01,  1.17200881e-01,  1.21883139e-01, -4.87946393e-03,\n",
       "       -6.01118915e-02, -9.10479482e-03,  1.10118456e-01,  4.12797779e-02,\n",
       "        2.26258710e-01,  2.66071975e-01,  3.17014545e-01,  2.68622786e-01,\n",
       "        1.60124168e-01,  5.19890934e-02, -1.96932834e-02,  3.25486367e-03,\n",
       "       -3.58734466e-02,  1.60945617e-02,  7.22930133e-02, -7.51804113e-02,\n",
       "        7.29697570e-02, -5.46400622e-02, -3.18446965e-03, -6.00402690e-02,\n",
       "       -1.62509605e-02,  1.92893401e-01,  1.35599479e-01,  8.53894949e-02,\n",
       "        1.63691565e-01,  7.46814534e-02,  5.37379012e-02, -2.04040874e-02,\n",
       "       -7.93578625e-02,  2.19341852e-02,  1.67361811e-01,  1.97108611e-01,\n",
       "        2.60867596e-01,  2.53080875e-01,  1.88395813e-01,  1.57992318e-01,\n",
       "        1.51230812e-01,  9.30679664e-02, -4.04648157e-03, -8.31680074e-02,\n",
       "        5.32753691e-02,  9.49405693e-03,  4.08146158e-02, -3.79294809e-03,\n",
       "        2.72718202e-02,  5.64883649e-02, -6.83541372e-02, -1.83682889e-02,\n",
       "        1.63413100e-02,  1.82107780e-02,  1.35110244e-01,  5.71785085e-02,\n",
       "        1.76149067e-02,  1.40593827e-01,  3.83049846e-02, -1.67340450e-02,\n",
       "       -1.40439661e-03,  7.79448450e-02,  4.35954295e-02,  4.99218293e-02,\n",
       "        1.92884251e-01,  2.75167078e-01,  2.43737698e-01,  4.56020012e-02,\n",
       "       -1.53717380e-02,  5.37842363e-02, -1.17177337e-01, -6.11411631e-02,\n",
       "       -2.77597699e-02, -4.45213802e-02,  2.84350235e-02, -4.08211201e-02,\n",
       "        4.37638350e-02, -3.08855455e-02, -7.35220611e-02, -3.73668713e-03,\n",
       "       -3.03203575e-02, -2.40785647e-02,  1.20787874e-01,  1.09013386e-01,\n",
       "        7.67796636e-02,  4.07947600e-02, -3.63392718e-02, -1.75324641e-02,\n",
       "        5.30964276e-03, -4.61042253e-03, -9.91061479e-02,  3.07583828e-02,\n",
       "        1.87207013e-01,  1.39867917e-01,  2.64424309e-02, -1.97756998e-02,\n",
       "       -7.51897395e-02, -1.52344301e-01, -1.15205579e-01, -1.14139169e-02,\n",
       "       -1.78107060e-02,  6.56507239e-02, -4.66214605e-02,  6.32496700e-02,\n",
       "       -1.16272224e-02,  6.94241226e-02,  4.62399162e-02,  1.68777537e-02,\n",
       "        9.46538299e-02, -4.55249101e-02,  7.06599560e-03,  5.43403998e-02,\n",
       "        8.50554332e-02,  6.80925697e-02,  1.26412570e-01, -7.20780508e-06,\n",
       "        4.45271190e-03, -1.20496459e-01, -1.05207816e-01,  9.98794436e-02,\n",
       "        2.07782060e-01,  3.00873946e-02, -3.36134098e-02, -5.52248023e-02,\n",
       "       -1.57043383e-01, -1.69005424e-01, -1.41263217e-01, -7.81500638e-02,\n",
       "        2.23829169e-02, -1.37439817e-02,  3.47973518e-02,  7.88005590e-02,\n",
       "        8.68992135e-02,  3.47153656e-03, -8.03326443e-02,  2.25154664e-02,\n",
       "       -2.97490470e-02, -1.80724803e-02, -1.05150556e-03, -2.02243812e-02,\n",
       "       -2.73958780e-02,  9.66525227e-02,  8.19627270e-02,  1.75586697e-02,\n",
       "        2.76786974e-03, -6.89862072e-02,  2.82268990e-02,  2.93030608e-02,\n",
       "        4.63628061e-02,  5.88847585e-02, -8.10221136e-02, -4.01333235e-02,\n",
       "       -8.60558078e-02, -1.65412486e-01, -7.04621673e-02, -9.97614581e-03,\n",
       "       -1.08827405e-01,  4.67946716e-02, -2.52345297e-02, -4.81835678e-02,\n",
       "        8.64398777e-02, -2.24356400e-03, -1.55656682e-02, -9.61942822e-02,\n",
       "        2.53372397e-02, -1.16228312e-01, -7.39773735e-02,  4.56173252e-03,\n",
       "       -1.29193693e-01, -1.07883707e-01, -6.36552125e-02, -6.26336262e-02,\n",
       "       -1.64909326e-02, -1.51974440e-01, -2.71114558e-02,  5.44226132e-02,\n",
       "        5.48096597e-02, -3.13378610e-02, -3.94859016e-02, -9.69713628e-02,\n",
       "       -7.80246928e-02, -6.05798922e-02, -1.41445547e-01, -1.25537336e-01,\n",
       "       -7.76556805e-02, -9.47686285e-02, -8.07629377e-02, -2.76298355e-02,\n",
       "        8.18802118e-02, -2.06833128e-02, -4.23860960e-02,  5.67096146e-03,\n",
       "       -7.40007684e-02, -5.41172177e-02, -1.17343299e-01, -1.88500777e-01,\n",
       "       -7.48269409e-02, -1.99507341e-01, -1.54386252e-01, -1.70044973e-01,\n",
       "       -8.62325057e-02, -1.04281113e-01,  1.29993064e-02, -2.96948012e-02,\n",
       "       -7.76724145e-02, -1.55313000e-01, -2.31486447e-02, -4.64587063e-02,\n",
       "       -1.57120489e-02, -5.56284115e-02, -5.13909664e-03, -8.93128067e-02,\n",
       "        6.10084385e-02,  9.14575718e-03,  7.17274249e-02, -5.81117310e-02,\n",
       "        7.69501701e-02, -4.69636805e-02, -3.53612676e-02,  3.35049778e-02,\n",
       "       -3.33533771e-02, -7.59830996e-02, -1.78319901e-01, -1.54170007e-01,\n",
       "       -1.08940624e-01, -2.54982829e-01, -2.32178494e-01, -2.30059594e-01,\n",
       "       -2.31292650e-01, -5.41429892e-02, -4.51990888e-02, -1.00861765e-01,\n",
       "       -1.20593712e-01, -1.00032307e-01, -1.37886211e-01,  1.30127054e-02,\n",
       "        5.34202531e-03, -5.82323968e-02,  4.67956997e-02, -4.65929881e-02,\n",
       "        1.12064648e-02,  1.23139424e-02,  1.66206062e-02,  1.65957138e-02,\n",
       "        5.77895828e-02,  2.16426700e-03, -5.83247244e-02, -3.18227010e-03,\n",
       "        5.56575321e-02, -3.29255052e-02, -9.76297073e-03, -1.39019206e-01,\n",
       "       -2.29265928e-01, -1.14797466e-01, -1.67156130e-01, -2.51391560e-01,\n",
       "       -1.14515983e-01, -1.77662507e-01, -1.72416791e-01, -1.62730187e-01,\n",
       "       -1.14911795e-01, -8.93646255e-02, -6.09023049e-02,  3.73664894e-03,\n",
       "       -7.21369907e-02, -4.32117470e-02, -6.85828701e-02,  5.65191582e-02,\n",
       "        2.72417795e-02, -3.71739045e-02,  5.93171529e-02,  4.08423804e-02,\n",
       "       -1.51057318e-02, -1.35442028e-02, -8.46975818e-02, -1.18109901e-02,\n",
       "       -7.33405799e-02, -4.87858150e-03, -9.75949392e-02, -5.44193387e-02,\n",
       "       -1.21732295e-01, -1.26470864e-01, -1.67294949e-01, -6.29060194e-02,\n",
       "       -1.19748175e-01, -3.94322015e-02, -6.94229677e-02, -1.70881927e-01,\n",
       "       -1.38699278e-01, -1.61786497e-01, -1.17242217e-01, -1.13698460e-01,\n",
       "        8.92679300e-03, -3.53100374e-02,  6.46144301e-02, -3.26085798e-02,\n",
       "        8.03298578e-02, -2.96353828e-02,  7.67479390e-02, -7.55349025e-02,\n",
       "       -2.43685916e-02,  8.04244652e-02,  3.41139361e-02,  1.14507284e-02,\n",
       "        7.32549354e-02, -1.08402438e-01, -8.56613815e-02, -7.73163736e-02,\n",
       "       -6.98642014e-03, -5.19184433e-02, -1.12429075e-01, -9.03106630e-02,\n",
       "       -6.82380721e-02, -1.70337364e-01, -1.78849563e-01, -9.51775983e-02,\n",
       "       -7.04947412e-02, -3.49415019e-02, -7.38699958e-02,  1.30209588e-02,\n",
       "        9.73941013e-02,  1.02696545e-01, -4.86808084e-03, -2.05777064e-02,\n",
       "       -5.62423989e-02, -8.32605436e-02, -5.40402718e-02,  5.90646490e-02,\n",
       "       -1.51916817e-02,  3.69365066e-02,  2.62536928e-02, -3.73852663e-02,\n",
       "        2.16634218e-02,  3.64832245e-02,  7.86217377e-02,  7.62131289e-02,\n",
       "        6.32954463e-02, -1.76860474e-03,  1.13336846e-01,  5.36125489e-02,\n",
       "        5.66515932e-03,  6.89371675e-03, -3.68813835e-02,  6.58055544e-02,\n",
       "        4.03672531e-02,  7.85932317e-02,  1.23737887e-01,  1.45617247e-01,\n",
       "        6.86916336e-02,  7.80733749e-02,  1.53261295e-04,  3.92155424e-02,\n",
       "        8.68989006e-02,  5.23729511e-02, -2.22372115e-02,  7.67538697e-03,\n",
       "       -7.10237697e-02,  8.96063447e-03,  2.45547220e-02, -4.45723757e-02,\n",
       "       -1.79273710e-02, -2.82197669e-02,  2.69427020e-02,  5.84696159e-02,\n",
       "        6.82726651e-02,  1.61764529e-02,  9.21272784e-02,  1.44427687e-01,\n",
       "        1.07163779e-01,  1.37411460e-01,  1.02544934e-01,  5.16492724e-02,\n",
       "        9.86495763e-02,  1.57086954e-01,  1.48938999e-01,  1.74915433e-01,\n",
       "        5.55169210e-02,  4.42865342e-02,  2.78351735e-02,  6.41608462e-02,\n",
       "       -6.87014163e-02, -4.86252904e-02, -6.88591674e-02,  3.94547731e-03,\n",
       "       -6.37312233e-02, -4.23980318e-02, -4.92190085e-02,  3.82430591e-02,\n",
       "        9.13718541e-04,  5.49921729e-02, -5.03104143e-02, -5.60350269e-02,\n",
       "        2.57017519e-02,  5.56399263e-02,  1.70609243e-02,  1.13982242e-02,\n",
       "        1.04423702e-01, -1.65155269e-02,  1.06169283e-01, -3.90706845e-02,\n",
       "        3.55382003e-02,  6.19913377e-02,  6.33928999e-02,  1.05170205e-01,\n",
       "       -2.44775582e-02,  5.47350571e-02,  9.08655375e-02,  2.50910725e-02,\n",
       "       -2.80248933e-02,  9.58332978e-03, -8.47423002e-02,  9.03721899e-03,\n",
       "        8.03250819e-03,  5.29588684e-02, -4.73399498e-02, -5.84995672e-02,\n",
       "       -3.63891870e-02, -3.81633751e-02, -7.74658397e-02, -7.99369216e-02,\n",
       "       -1.49878266e-03,  6.63476512e-02, -6.82083592e-02,  1.61076020e-02,\n",
       "        5.81414551e-02, -1.72509570e-02,  3.68124694e-02, -5.46620321e-03,\n",
       "        8.06186646e-02, -8.74461606e-02, -6.33229911e-02, -4.21340540e-02,\n",
       "       -4.49907035e-02,  8.58931094e-02,  7.26391748e-02, -7.38022663e-03,\n",
       "       -4.31613550e-02,  8.43105540e-02, -6.15511313e-02, -2.77174003e-02],\n",
       "      dtype=float32)"
      ]
     },
     "execution_count": 21,
     "metadata": {},
     "output_type": "execute_result"
    }
   ],
   "source": [
    "weights[:,9]"
   ]
  },
  {
   "cell_type": "code",
   "execution_count": null,
   "metadata": {},
   "outputs": [],
   "source": []
  },
  {
   "cell_type": "code",
   "execution_count": 22,
   "metadata": {
    "id": "oz3VV2EiuY7X"
   },
   "outputs": [
    {
     "data": {
      "image/png": "[encoded data removed]",
      "text/plain": [
       "<Figure size 1440x1440 with 10 Axes>"
      ]
     },
     "metadata": {
      "needs_background": "light"
     },
     "output_type": "display_data"
    }
   ],
   "source": [
    "fig, axs = plt.subplots(1,10, figsize=(20,20))\n",
    "for i in range(10):\n",
    "  subplot = axs[i]\n",
    "  subplot.set_title(i)\n",
    "  subplot.axis('off')\n",
    "  # TODO: modify this code to complete the plotting function\n",
    "  i_weights = weights[:,i] # Select the weights for the i'th output\n",
    "  img = tf.reshape(i_weights, [28,28]) # Reshape the weights into a 28x28 array\n",
    "  subplot.imshow(img, plt.get_cmap('seismic'))\n",
    "plt.show()"
   ]
  },
  {
   "cell_type": "markdown",
   "metadata": {
    "id": "HNBCIqzdw2GS"
   },
   "source": [
    "### 2b: Implement a deep neural network\n",
    "\n",
    "**TODO**\n",
    "\n",
    "Modify this code to create a deep neural network. Train your model using the code below, and compare the accuracy to the linear model above. \n",
    "\n",
    "Note: you do not need to modify any sections other than the model definition and the call method. \n",
    "\n",
    "The code below uses compiled versions of the training and evaluation loops (remove the ```@tf.function``` annotations if you need to debug)."
   ]
  },
  {
   "cell_type": "code",
   "execution_count": 23,
   "metadata": {
    "id": "rxoIfq91xDRZ"
   },
   "outputs": [],
   "source": [
    "class MyDNN(Model):\n",
    "    def __init__(self):\n",
    "        super(MyDNN, self).__init__()\n",
    "        self.flatten = Flatten()\n",
    "        # Modify me\n",
    "        self.d1 = Dense(128, activation='relu')\n",
    "        self.d2 = Dense(64, activation='relu')\n",
    "        self.d3 = Dense(32, activation='relu')\n",
    "        self.d4 = Dense(10, activation='softmax')\n",
    "    \n",
    "    def call(self, x):\n",
    "        x = self.flatten(x)\n",
    "        x = self.d1(x)\n",
    "        x = self.d2(x)\n",
    "        x = self.d3(x)\n",
    "        return self.d4(x)\n",
    "\n",
    "model = MyDNN()\n"
   ]
  },
  {
   "cell_type": "code",
   "execution_count": 24,
   "metadata": {
    "id": "hVDDq2orxPBR"
   },
   "outputs": [],
   "source": [
    "loss_object = tf.keras.losses.SparseCategoricalCrossentropy()\n",
    "optimizer = tf.keras.optimizers.Adam()"
   ]
  },
  {
   "cell_type": "markdown",
   "metadata": {
    "id": "WNC0K6JPxy-g"
   },
   "source": [
    "These are helper functions we'll use to record loss and accuracy while your model is trained."
   ]
  },
  {
   "cell_type": "code",
   "execution_count": 25,
   "metadata": {
    "id": "duYKrACkxRHw"
   },
   "outputs": [],
   "source": [
    "train_loss = tf.keras.metrics.Mean(name='train_loss')\n",
    "train_accuracy = tf.keras.metrics.SparseCategoricalAccuracy(name='train_accuracy')\n",
    "\n",
    "test_loss = tf.keras.metrics.Mean(name='test_loss')\n",
    "test_accuracy = tf.keras.metrics.SparseCategoricalAccuracy(name='test_accuracy')"
   ]
  },
  {
   "cell_type": "markdown",
   "metadata": {
    "id": "C_oUQki5x0lD"
   },
   "source": [
    "This method trains the model on a batch of data."
   ]
  },
  {
   "cell_type": "code",
   "execution_count": 26,
   "metadata": {
    "id": "yTQAnrOAxUAu"
   },
   "outputs": [],
   "source": [
    "@tf.function\n",
    "def train_step(images, labels):\n",
    "  with tf.GradientTape() as tape:\n",
    "    predictions = model(images)\n",
    "    loss = loss_object(labels, predictions)\n",
    "  gradients = tape.gradient(loss, model.trainable_variables)\n",
    "  optimizer.apply_gradients(zip(gradients, model.trainable_variables))\n",
    "\n",
    "  train_loss(loss)\n",
    "  train_accuracy(labels, predictions)"
   ]
  },
  {
   "cell_type": "markdown",
   "metadata": {
    "id": "-lUJFkfux44o"
   },
   "source": [
    "This method evaluates the model on a batch of data."
   ]
  },
  {
   "cell_type": "code",
   "execution_count": 27,
   "metadata": {
    "id": "BTMp9PwZxV5h"
   },
   "outputs": [],
   "source": [
    "@tf.function\n",
    "def test_step(images, labels):\n",
    "  predictions = model(images)\n",
    "  t_loss = loss_object(labels, predictions)\n",
    "\n",
    "  test_loss(t_loss)\n",
    "  test_accuracy(labels, predictions)"
   ]
  },
  {
   "cell_type": "markdown",
   "metadata": {
    "id": "AR0_bNd-x6OE"
   },
   "source": [
    "Training and evaluation loop."
   ]
  },
  {
   "cell_type": "code",
   "execution_count": 28,
   "metadata": {
    "id": "enHqlaCfxXq3"
   },
   "outputs": [
    {
     "name": "stdout",
     "output_type": "stream",
     "text": [
      "Epoch 1, Loss: 0.250449538230896, Accuracy: 92.67166900634766, Test Loss: 0.1425177901983261, Test Accuracy: 95.45000457763672\n",
      "Epoch 2, Loss: 0.10370540618896484, Accuracy: 96.86499786376953, Test Loss: 0.10170017927885056, Test Accuracy: 96.75\n",
      "Epoch 3, Loss: 0.0739724263548851, Accuracy: 97.68999481201172, Test Loss: 0.1000342071056366, Test Accuracy: 96.94000244140625\n",
      "Epoch 4, Loss: 0.05677380412817001, Accuracy: 98.21166229248047, Test Loss: 0.08949826657772064, Test Accuracy: 97.22999572753906\n",
      "Epoch 5, Loss: 0.04504245147109032, Accuracy: 98.62166595458984, Test Loss: 0.09845070540904999, Test Accuracy: 97.15999603271484\n"
     ]
    }
   ],
   "source": [
    "EPOCHS = 5\n",
    "\n",
    "for epoch in range(EPOCHS):\n",
    "  for images, labels in train_ds:\n",
    "    train_step(images, labels)\n",
    "\n",
    "  for test_images, test_labels in test_ds:\n",
    "    test_step(test_images, test_labels)\n",
    "\n",
    "  template = 'Epoch {}, Loss: {}, Accuracy: {}, Test Loss: {}, Test Accuracy: {}'\n",
    "  print(template.format(epoch+1,\n",
    "                        train_loss.result(),\n",
    "                        train_accuracy.result()*100,\n",
    "                        test_loss.result(),\n",
    "                        test_accuracy.result()*100))\n",
    "\n",
    "  # Reset the metrics for the next epoch\n",
    "  train_loss.reset_states()\n",
    "  train_accuracy.reset_states()\n",
    "  test_loss.reset_states()\n",
    "  test_accuracy.reset_states()"
   ]
  },
  {
   "cell_type": "markdown",
   "metadata": {
    "id": "ZxjIFiyBPorB"
   },
   "source": [
    "### 2c: Provide your own implementation of softmax and use it to train a model\n",
    "\n",
    "In your linear model above, the starter code looked similar to: \n",
    "\n",
    "\n",
    "```\n",
    "class LinearModel(Model):\n",
    "  def __init__(self):\n",
    "    super(LinearModel, self).__init__()\n",
    "    self.flatten = Flatten()\n",
    "    self.d1 = Dense(10, activation='softmax')\n",
    "\n",
    "  def call(self, x):\n",
    "    x = self.flatten(x)\n",
    "    return self.d1(x)\n",
    "``` \n",
    "\n",
    "Now, create a function:\n",
    "\n",
    "\n",
    "```\n",
    "def my_softmax(logits):\n",
    "  # ...\n",
    "```\n",
    "\n",
    "and use it in your model as follows:\n",
    "\n",
    "\n",
    "```\n",
    "class LinearModel(Model):\n",
    "  def __init__(self):\n",
    "    super(LinearModel, self).__init__()\n",
    "    self.flatten = Flatten()\n",
    "    self.d1 = Dense(10)\n",
    "\n",
    "  def call(self, x):\n",
    "    x = self.flatten(x)\n",
    "    x = self.d1(x)\n",
    "    return my_softmax(x)\n",
    "``` \n",
    "\n",
    "Notice, we've removed the built-in activation method on the Dense layer, and added our own to the call method.\n",
    "\n",
    "Tip: You can implement softmax first using NumPy, if you like, the gradually convert your code to use TensorFlow ops (which begin with tf.\\* instead of np.\\*).\n",
    "\n",
    "Notes: \n",
    "\n",
    "- Your softmax implementation should be numerically stable. \n",
    "- You will need to use tf.* ops in order to use your code to train a model (TF cannot backprop through NumPy operations)."
   ]
  },
  {
   "cell_type": "code",
   "execution_count": 29,
   "metadata": {
    "id": "SiLj-uFrRAn-"
   },
   "outputs": [],
   "source": [
    "# TODO: your code here\n",
    "\n",
    "def my_softmax(x):  \n",
    "    X_exp = tf.exp(x)\n",
    "    return  X_exp/tf.reduce_sum(X_exp)\n",
    "    \n",
    "    \n",
    "class MyModel(Model):\n",
    "  def __init__(self):\n",
    "    super(MyModel, self).__init__()\n",
    "    self.flatten = Flatten()\n",
    "    self.d1 = Dense(10)\n",
    "\n",
    "  def call(self, x):\n",
    "    x = self.flatten(x)\n",
    "    x = self.d1(x)\n",
    "    return my_softmax(x)\n",
    "  \n",
    "model = MyModel()\n",
    "\n",
    "\n",
    "# TODO\n",
    "# Add code to train this model\n",
    "# When it's trained, the accuracy should be similar to the linear\n",
    "# model from part one (but not identical, the weights are initialized randomly)"
   ]
  },
  {
   "cell_type": "code",
   "execution_count": 30,
   "metadata": {},
   "outputs": [],
   "source": [
    "loss_object = tf.keras.losses.SparseCategoricalCrossentropy()\n",
    "optimizer = tf.keras.optimizers.Adam()\n",
    "train_loss = tf.keras.metrics.Mean(name='train_loss')\n",
    "train_accuracy = tf.keras.metrics.SparseCategoricalAccuracy(name='train_accuracy')\n",
    "\n",
    "test_loss = tf.keras.metrics.Mean(name='test_loss')\n",
    "test_accuracy = tf.keras.metrics.SparseCategoricalAccuracy(name='test_accuracy')\n",
    "@tf.function\n",
    "def train_step(images, labels):\n",
    "  with tf.GradientTape() as tape:\n",
    "    predictions = model(images)\n",
    "    loss = loss_object(labels, predictions)\n",
    "  gradients = tape.gradient(loss, model.trainable_variables)\n",
    "  optimizer.apply_gradients(zip(gradients, model.trainable_variables))\n",
    "\n",
    "  train_loss(loss)\n",
    "  train_accuracy(labels, predictions)\n",
    "@tf.function\n",
    "def test_step(images, labels):\n",
    "  predictions = model(images)\n",
    "  t_loss = loss_object(labels, predictions)\n",
    "\n",
    "  test_loss(t_loss)\n",
    "  test_accuracy(labels, predictions)\n"
   ]
  },
  {
   "cell_type": "code",
   "execution_count": 31,
   "metadata": {},
   "outputs": [
    {
     "name": "stdout",
     "output_type": "stream",
     "text": [
      "Epoch 1, Loss: 0.4669547975063324, Accuracy: 87.66166687011719, Test Loss: 0.3107800781726837, Test Accuracy: 91.4699935913086\n",
      "Epoch 2, Loss: 0.3026660084724426, Accuracy: 91.52999877929688, Test Loss: 0.2801017463207245, Test Accuracy: 92.04999542236328\n",
      "Epoch 3, Loss: 0.28079625964164734, Accuracy: 92.07500457763672, Test Loss: 0.27176058292388916, Test Accuracy: 92.15999603271484\n",
      "Epoch 4, Loss: 0.2687476873397827, Accuracy: 92.5183334350586, Test Loss: 0.26661887764930725, Test Accuracy: 92.44999694824219\n",
      "Epoch 5, Loss: 0.2616611123085022, Accuracy: 92.69667053222656, Test Loss: 0.26668667793273926, Test Accuracy: 92.29999542236328\n"
     ]
    }
   ],
   "source": [
    "EPOCHS = 5\n",
    "\n",
    "for epoch in range(EPOCHS):\n",
    "  for images, labels in train_ds:\n",
    "    train_step(images, labels)\n",
    "\n",
    "  for test_images, test_labels in test_ds:\n",
    "    test_step(test_images, test_labels)\n",
    "\n",
    "  template = 'Epoch {}, Loss: {}, Accuracy: {}, Test Loss: {}, Test Accuracy: {}'\n",
    "  print(template.format(epoch+1,\n",
    "                        train_loss.result(),\n",
    "                        train_accuracy.result()*100,\n",
    "                        test_loss.result(),\n",
    "                        test_accuracy.result()*100))\n",
    "\n",
    "  # Reset the metrics for the next epoch\n",
    "  train_loss.reset_states()\n",
    "  train_accuracy.reset_states()\n",
    "  test_loss.reset_states()\n",
    "  test_accuracy.reset_states()"
   ]
  },
  {
   "cell_type": "code",
   "execution_count": null,
   "metadata": {},
   "outputs": [],
   "source": []
  },
  {
   "cell_type": "code",
   "execution_count": null,
   "metadata": {},
   "outputs": [],
   "source": []
  }
 ],
 "metadata": {
  "accelerator": "GPU",
  "colab": {
   "collapsed_sections": [],
   "provenance": []
  },
  "kernelspec": {
   "display_name": "Python 3",
   "language": "python",
   "name": "python3"
  },
  "language_info": {
   "codemirror_mode": {
    "name": "ipython",
    "version": 3
   },
   "file_extension": ".py",
   "mimetype": "text/x-python",
   "name": "python",
   "nbconvert_exporter": "python",
   "pygments_lexer": "ipython3",
   "version": "3.8.5"
  }
 },
 "nbformat": 4,
 "nbformat_minor": 1
}
